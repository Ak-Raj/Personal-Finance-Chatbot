{
  "cells": [
    {
      "cell_type": "code",
      "execution_count": 21,
      "metadata": {
        "colab": {
          "base_uri": "https://localhost:8080/"
        },
        "id": "MYZ2sqX5ovoe",
        "outputId": "db168dfa-9bc8-4322-e2cc-f366725c5ba7"
      },
      "outputs": [
        {
          "output_type": "stream",
          "name": "stdout",
          "text": [
            "Requirement already satisfied: transformers in /usr/local/lib/python3.12/dist-packages (4.55.4)\n",
            "Requirement already satisfied: accelerate in /usr/local/lib/python3.12/dist-packages (1.10.1)\n",
            "Requirement already satisfied: bitsandbytes in /usr/local/lib/python3.12/dist-packages (0.47.0)\n",
            "Requirement already satisfied: torch in /usr/local/lib/python3.12/dist-packages (2.8.0+cu126)\n",
            "Requirement already satisfied: filelock in /usr/local/lib/python3.12/dist-packages (from transformers) (3.19.1)\n",
            "Requirement already satisfied: huggingface-hub<1.0,>=0.34.0 in /usr/local/lib/python3.12/dist-packages (from transformers) (0.34.4)\n",
            "Requirement already satisfied: numpy>=1.17 in /usr/local/lib/python3.12/dist-packages (from transformers) (2.0.2)\n",
            "Requirement already satisfied: packaging>=20.0 in /usr/local/lib/python3.12/dist-packages (from transformers) (25.0)\n",
            "Requirement already satisfied: pyyaml>=5.1 in /usr/local/lib/python3.12/dist-packages (from transformers) (6.0.2)\n",
            "Requirement already satisfied: regex!=2019.12.17 in /usr/local/lib/python3.12/dist-packages (from transformers) (2024.11.6)\n",
            "Requirement already satisfied: requests in /usr/local/lib/python3.12/dist-packages (from transformers) (2.32.4)\n",
            "Requirement already satisfied: tokenizers<0.22,>=0.21 in /usr/local/lib/python3.12/dist-packages (from transformers) (0.21.4)\n",
            "Requirement already satisfied: safetensors>=0.4.3 in /usr/local/lib/python3.12/dist-packages (from transformers) (0.6.2)\n",
            "Requirement already satisfied: tqdm>=4.27 in /usr/local/lib/python3.12/dist-packages (from transformers) (4.67.1)\n",
            "Requirement already satisfied: psutil in /usr/local/lib/python3.12/dist-packages (from accelerate) (5.9.5)\n",
            "Requirement already satisfied: typing-extensions>=4.10.0 in /usr/local/lib/python3.12/dist-packages (from torch) (4.15.0)\n",
            "Requirement already satisfied: setuptools in /usr/local/lib/python3.12/dist-packages (from torch) (75.2.0)\n",
            "Requirement already satisfied: sympy>=1.13.3 in /usr/local/lib/python3.12/dist-packages (from torch) (1.13.3)\n",
            "Requirement already satisfied: networkx in /usr/local/lib/python3.12/dist-packages (from torch) (3.5)\n",
            "Requirement already satisfied: jinja2 in /usr/local/lib/python3.12/dist-packages (from torch) (3.1.6)\n",
            "Requirement already satisfied: fsspec in /usr/local/lib/python3.12/dist-packages (from torch) (2025.3.0)\n",
            "Requirement already satisfied: nvidia-cuda-nvrtc-cu12==12.6.77 in /usr/local/lib/python3.12/dist-packages (from torch) (12.6.77)\n",
            "Requirement already satisfied: nvidia-cuda-runtime-cu12==12.6.77 in /usr/local/lib/python3.12/dist-packages (from torch) (12.6.77)\n",
            "Requirement already satisfied: nvidia-cuda-cupti-cu12==12.6.80 in /usr/local/lib/python3.12/dist-packages (from torch) (12.6.80)\n",
            "Requirement already satisfied: nvidia-cudnn-cu12==9.10.2.21 in /usr/local/lib/python3.12/dist-packages (from torch) (9.10.2.21)\n",
            "Requirement already satisfied: nvidia-cublas-cu12==12.6.4.1 in /usr/local/lib/python3.12/dist-packages (from torch) (12.6.4.1)\n",
            "Requirement already satisfied: nvidia-cufft-cu12==11.3.0.4 in /usr/local/lib/python3.12/dist-packages (from torch) (11.3.0.4)\n",
            "Requirement already satisfied: nvidia-curand-cu12==10.3.7.77 in /usr/local/lib/python3.12/dist-packages (from torch) (10.3.7.77)\n",
            "Requirement already satisfied: nvidia-cusolver-cu12==11.7.1.2 in /usr/local/lib/python3.12/dist-packages (from torch) (11.7.1.2)\n",
            "Requirement already satisfied: nvidia-cusparse-cu12==12.5.4.2 in /usr/local/lib/python3.12/dist-packages (from torch) (12.5.4.2)\n",
            "Requirement already satisfied: nvidia-cusparselt-cu12==0.7.1 in /usr/local/lib/python3.12/dist-packages (from torch) (0.7.1)\n",
            "Requirement already satisfied: nvidia-nccl-cu12==2.27.3 in /usr/local/lib/python3.12/dist-packages (from torch) (2.27.3)\n",
            "Requirement already satisfied: nvidia-nvtx-cu12==12.6.77 in /usr/local/lib/python3.12/dist-packages (from torch) (12.6.77)\n",
            "Requirement already satisfied: nvidia-nvjitlink-cu12==12.6.85 in /usr/local/lib/python3.12/dist-packages (from torch) (12.6.85)\n",
            "Requirement already satisfied: nvidia-cufile-cu12==1.11.1.6 in /usr/local/lib/python3.12/dist-packages (from torch) (1.11.1.6)\n",
            "Requirement already satisfied: triton==3.4.0 in /usr/local/lib/python3.12/dist-packages (from torch) (3.4.0)\n",
            "Requirement already satisfied: hf-xet<2.0.0,>=1.1.3 in /usr/local/lib/python3.12/dist-packages (from huggingface-hub<1.0,>=0.34.0->transformers) (1.1.8)\n",
            "Requirement already satisfied: mpmath<1.4,>=1.1.0 in /usr/local/lib/python3.12/dist-packages (from sympy>=1.13.3->torch) (1.3.0)\n",
            "Requirement already satisfied: MarkupSafe>=2.0 in /usr/local/lib/python3.12/dist-packages (from jinja2->torch) (3.0.2)\n",
            "Requirement already satisfied: charset_normalizer<4,>=2 in /usr/local/lib/python3.12/dist-packages (from requests->transformers) (3.4.3)\n",
            "Requirement already satisfied: idna<4,>=2.5 in /usr/local/lib/python3.12/dist-packages (from requests->transformers) (3.10)\n",
            "Requirement already satisfied: urllib3<3,>=1.21.1 in /usr/local/lib/python3.12/dist-packages (from requests->transformers) (2.5.0)\n",
            "Requirement already satisfied: certifi>=2017.4.17 in /usr/local/lib/python3.12/dist-packages (from requests->transformers) (2025.8.3)\n"
          ]
        }
      ],
      "source": [
        "!pip install transformers accelerate bitsandbytes torch\n"
      ]
    },
    {
      "cell_type": "code",
      "execution_count": 22,
      "metadata": {
        "colab": {
          "base_uri": "https://localhost:8080/"
        },
        "id": "FcdCs1oo0ThT",
        "outputId": "f6e0d51e-e27e-4fd9-93e0-7156434c1199"
      },
      "outputs": [
        {
          "output_type": "stream",
          "name": "stdout",
          "text": [
            "Token loaded successfully!\n"
          ]
        }
      ],
      "source": [
        "from google.colab import userdata\n",
        "import torch\n",
        "from transformers import AutoTokenizer, AutoModelForCausalLM, BitsAndBytesConfig\n",
        "hf_token = userdata.get('HF_TOKEN')\n",
        "\n",
        "print(\"Token loaded successfully!\")"
      ]
    },
    {
      "cell_type": "code",
      "execution_count": 23,
      "metadata": {
        "colab": {
          "base_uri": "https://localhost:8080/",
          "height": 66,
          "referenced_widgets": [
            "0b0d00f582de4875bf34d3fd1d1bf5f8",
            "402fc7a4cb4349558169afc1187d8eee",
            "bdc8cd24867b435ebd912fc9e7b28bf9",
            "4950698d58474db38c63d698d7c0bb5a",
            "6e8926d409b74656abbcbdaf4869498e",
            "78ae7c0695a046fbb5d45d7e7bf4f51a",
            "fa61eabae05c44f483bb5f7debeb2290",
            "0ff37ac86c3844799e011665d8eebea3",
            "4920c8ce5e844a56a08da1dba44db4aa",
            "ae16b33402a2417496c4c7b37246d4e2",
            "abb3b7bfd2ec47f9b11b89ffe3e76ba8"
          ]
        },
        "id": "wzeA69DT08TS",
        "outputId": "74a13914-5588-4667-9986-0c03ebaa6967"
      },
      "outputs": [
        {
          "output_type": "display_data",
          "data": {
            "text/plain": [
              "Loading checkpoint shards:   0%|          | 0/2 [00:00<?, ?it/s]"
            ],
            "application/vnd.jupyter.widget-view+json": {
              "version_major": 2,
              "version_minor": 0,
              "model_id": "0b0d00f582de4875bf34d3fd1d1bf5f8"
            }
          },
          "metadata": {}
        },
        {
          "output_type": "stream",
          "name": "stdout",
          "text": [
            "Model loaded successfully!\n"
          ]
        }
      ],
      "source": [
        "# Ee cell ni run cheyandi\n",
        "model_id = \"google/gemma-2b-it\"\n",
        "\n",
        "# Model ni memory lo takkuva size lo load cheyadaniki ee configuration\n",
        "quantization_config = BitsAndBytesConfig(load_in_4bit=True)\n",
        "\n",
        "# Tokenizer (mana text ni model ki ardham ayyela marche di)\n",
        "tokenizer = AutoTokenizer.from_pretrained(model_id, token=hf_token)\n",
        "\n",
        "# Model (ide mana AI brain)\n",
        "model = AutoModelForCausalLM.from_pretrained(\n",
        "    model_id,\n",
        "    token=hf_token,\n",
        "    quantization_config=quantization_config,\n",
        "    device_map=\"auto\" # Automatically GPU ni use chesukuntundi\n",
        ")\n",
        "\n",
        "print(\"Model loaded successfully!\")"
      ]
    },
    {
      "cell_type": "code",
      "execution_count": 24,
      "metadata": {
        "colab": {
          "base_uri": "https://localhost:8080/"
        },
        "id": "8k6Qjtks1Ik9",
        "outputId": "5c446e0b-7041-40c5-d8f0-c819ecdf9e81"
      },
      "outputs": [
        {
          "output_type": "stream",
          "name": "stdout",
          "text": [
            "Token loaded successfully!\n"
          ]
        }
      ],
      "source": [
        "# Ee cell ni run cheyandi\n",
        "from google.colab import userdata\n",
        "import torch\n",
        "from transformers import AutoTokenizer, AutoModelForCausalLM, BitsAndBytesConfig\n",
        "\n",
        "# Secret nunchi token ni load chestunnam\n",
        "hf_token = userdata.get('HF_TOKEN')\n",
        "\n",
        "print(\"Token loaded successfully!\")"
      ]
    },
    {
      "cell_type": "code",
      "execution_count": 25,
      "metadata": {
        "colab": {
          "base_uri": "https://localhost:8080/",
          "height": 66,
          "referenced_widgets": [
            "de0c396b78824b15ba7ef1996117b335",
            "b80272fb554b4fc58c72362561283292",
            "0e150aec8a6a43f0b91fe49cf5515b4e",
            "65d65f9768754e31b5a3da19b35ad37b",
            "e00a2000faf54d81bac438e11efa1e6b",
            "d3630ae026134efdb151241373a69f42",
            "1b6ff7c7c5be454fac579520fa31c908",
            "e1aa9f6dfb9348e493ede1af9d2c2150",
            "2535a4a72312492097a01c43faaa1ad2",
            "85f2daddb6cd49d98a9f3d65a6ec0a58",
            "b4abf811f57241c4824fb385240f1173"
          ]
        },
        "id": "kI9eKayk2uwW",
        "outputId": "4b148431-65d6-4648-b740-1015e1175397"
      },
      "outputs": [
        {
          "output_type": "display_data",
          "data": {
            "text/plain": [
              "Loading checkpoint shards:   0%|          | 0/2 [00:00<?, ?it/s]"
            ],
            "application/vnd.jupyter.widget-view+json": {
              "version_major": 2,
              "version_minor": 0,
              "model_id": "de0c396b78824b15ba7ef1996117b335"
            }
          },
          "metadata": {}
        },
        {
          "output_type": "stream",
          "name": "stdout",
          "text": [
            "Model loaded successfully!\n"
          ]
        }
      ],
      "source": [
        "# Ee cell ni run cheyandi\n",
        "model_id = \"google/gemma-2b-it\"\n",
        "\n",
        "# Model ni memory lo takkuva size lo load cheyadaniki ee configuration\n",
        "quantization_config = BitsAndBytesConfig(load_in_4bit=True)\n",
        "\n",
        "# Tokenizer (mana text ni model ki ardham ayyela marche di)\n",
        "tokenizer = AutoTokenizer.from_pretrained(model_id, token=hf_token)\n",
        "\n",
        "# Model (ide mana AI brain)\n",
        "model = AutoModelForCausalLM.from_pretrained(\n",
        "    model_id,\n",
        "    token=hf_token,\n",
        "    quantization_config=quantization_config,\n",
        "    device_map=\"auto\" # Automatically GPU ni use chesukuntundi\n",
        ")\n",
        "\n",
        "print(\"Model loaded successfully!\")"
      ]
    },
    {
      "cell_type": "code",
      "execution_count": 26,
      "metadata": {
        "id": "b5JfdDTY20Lp"
      },
      "outputs": [],
      "source": [
        "# Ee cell ni run cheyandi\n",
        "def get_financial_advice(question, persona):\n",
        "    # Model ki question ni ela adagalo cheppe format (prompt)\n",
        "    chat_template = [\n",
        "        {\"role\": \"user\", \"content\": f\"You are a helpful Personal Finance assistant. A '{persona}' is asking a question. Answer clearly and concisely. Question: {question}\"}\n",
        "    ]\n",
        "\n",
        "    # Template ni model ki ardham ayye format lo convert chestunnam\n",
        "    prompt = tokenizer.apply_chat_template(chat_template, tokenize=False, add_generation_prompt=True)\n",
        "\n",
        "    # Model ki input prepare chestunnam\n",
        "    inputs = tokenizer.encode(prompt, add_special_tokens=True, return_tensors=\"pt\").to(\"cuda\")\n",
        "\n",
        "    # Model nunchi answer generate chestunnam\n",
        "    outputs = model.generate(input_ids=inputs, max_new_tokens=250)\n",
        "\n",
        "    # Vachina answer ni manaki ardham ayye text la decode chestunnam\n",
        "    response_text = tokenizer.decode(outputs[0], skip_special_tokens=True)\n",
        "\n",
        "    # Only answer part ni teeskuntunnam\n",
        "    final_answer = response_text.split(\"model\\n\")[-1]\n",
        "\n",
        "    return final_answer"
      ]
    },
    {
      "cell_type": "code",
      "execution_count": 27,
      "metadata": {
        "colab": {
          "base_uri": "https://localhost:8080/"
        },
        "id": "vVA2AaKm4jJJ",
        "outputId": "80d2b903-d66e-4d00-c7c2-a1722212f0c1"
      },
      "outputs": [
        {
          "output_type": "stream",
          "name": "stdout",
          "text": [
            "Requirement already satisfied: transformers in /usr/local/lib/python3.12/dist-packages (4.55.4)\n",
            "Requirement already satisfied: accelerate in /usr/local/lib/python3.12/dist-packages (1.10.1)\n",
            "Requirement already satisfied: bitsandbytes in /usr/local/lib/python3.12/dist-packages (0.47.0)\n",
            "Requirement already satisfied: torch in /usr/local/lib/python3.12/dist-packages (2.8.0+cu126)\n",
            "Requirement already satisfied: filelock in /usr/local/lib/python3.12/dist-packages (from transformers) (3.19.1)\n",
            "Requirement already satisfied: huggingface-hub<1.0,>=0.34.0 in /usr/local/lib/python3.12/dist-packages (from transformers) (0.34.4)\n",
            "Requirement already satisfied: numpy>=1.17 in /usr/local/lib/python3.12/dist-packages (from transformers) (2.0.2)\n",
            "Requirement already satisfied: packaging>=20.0 in /usr/local/lib/python3.12/dist-packages (from transformers) (25.0)\n",
            "Requirement already satisfied: pyyaml>=5.1 in /usr/local/lib/python3.12/dist-packages (from transformers) (6.0.2)\n",
            "Requirement already satisfied: regex!=2019.12.17 in /usr/local/lib/python3.12/dist-packages (from transformers) (2024.11.6)\n",
            "Requirement already satisfied: requests in /usr/local/lib/python3.12/dist-packages (from transformers) (2.32.4)\n",
            "Requirement already satisfied: tokenizers<0.22,>=0.21 in /usr/local/lib/python3.12/dist-packages (from transformers) (0.21.4)\n",
            "Requirement already satisfied: safetensors>=0.4.3 in /usr/local/lib/python3.12/dist-packages (from transformers) (0.6.2)\n",
            "Requirement already satisfied: tqdm>=4.27 in /usr/local/lib/python3.12/dist-packages (from transformers) (4.67.1)\n",
            "Requirement already satisfied: psutil in /usr/local/lib/python3.12/dist-packages (from accelerate) (5.9.5)\n",
            "Requirement already satisfied: typing-extensions>=4.10.0 in /usr/local/lib/python3.12/dist-packages (from torch) (4.15.0)\n",
            "Requirement already satisfied: setuptools in /usr/local/lib/python3.12/dist-packages (from torch) (75.2.0)\n",
            "Requirement already satisfied: sympy>=1.13.3 in /usr/local/lib/python3.12/dist-packages (from torch) (1.13.3)\n",
            "Requirement already satisfied: networkx in /usr/local/lib/python3.12/dist-packages (from torch) (3.5)\n",
            "Requirement already satisfied: jinja2 in /usr/local/lib/python3.12/dist-packages (from torch) (3.1.6)\n",
            "Requirement already satisfied: fsspec in /usr/local/lib/python3.12/dist-packages (from torch) (2025.3.0)\n",
            "Requirement already satisfied: nvidia-cuda-nvrtc-cu12==12.6.77 in /usr/local/lib/python3.12/dist-packages (from torch) (12.6.77)\n",
            "Requirement already satisfied: nvidia-cuda-runtime-cu12==12.6.77 in /usr/local/lib/python3.12/dist-packages (from torch) (12.6.77)\n",
            "Requirement already satisfied: nvidia-cuda-cupti-cu12==12.6.80 in /usr/local/lib/python3.12/dist-packages (from torch) (12.6.80)\n",
            "Requirement already satisfied: nvidia-cudnn-cu12==9.10.2.21 in /usr/local/lib/python3.12/dist-packages (from torch) (9.10.2.21)\n",
            "Requirement already satisfied: nvidia-cublas-cu12==12.6.4.1 in /usr/local/lib/python3.12/dist-packages (from torch) (12.6.4.1)\n",
            "Requirement already satisfied: nvidia-cufft-cu12==11.3.0.4 in /usr/local/lib/python3.12/dist-packages (from torch) (11.3.0.4)\n",
            "Requirement already satisfied: nvidia-curand-cu12==10.3.7.77 in /usr/local/lib/python3.12/dist-packages (from torch) (10.3.7.77)\n",
            "Requirement already satisfied: nvidia-cusolver-cu12==11.7.1.2 in /usr/local/lib/python3.12/dist-packages (from torch) (11.7.1.2)\n",
            "Requirement already satisfied: nvidia-cusparse-cu12==12.5.4.2 in /usr/local/lib/python3.12/dist-packages (from torch) (12.5.4.2)\n",
            "Requirement already satisfied: nvidia-cusparselt-cu12==0.7.1 in /usr/local/lib/python3.12/dist-packages (from torch) (0.7.1)\n",
            "Requirement already satisfied: nvidia-nccl-cu12==2.27.3 in /usr/local/lib/python3.12/dist-packages (from torch) (2.27.3)\n",
            "Requirement already satisfied: nvidia-nvtx-cu12==12.6.77 in /usr/local/lib/python3.12/dist-packages (from torch) (12.6.77)\n",
            "Requirement already satisfied: nvidia-nvjitlink-cu12==12.6.85 in /usr/local/lib/python3.12/dist-packages (from torch) (12.6.85)\n",
            "Requirement already satisfied: nvidia-cufile-cu12==1.11.1.6 in /usr/local/lib/python3.12/dist-packages (from torch) (1.11.1.6)\n",
            "Requirement already satisfied: triton==3.4.0 in /usr/local/lib/python3.12/dist-packages (from torch) (3.4.0)\n",
            "Requirement already satisfied: hf-xet<2.0.0,>=1.1.3 in /usr/local/lib/python3.12/dist-packages (from huggingface-hub<1.0,>=0.34.0->transformers) (1.1.8)\n",
            "Requirement already satisfied: mpmath<1.4,>=1.1.0 in /usr/local/lib/python3.12/dist-packages (from sympy>=1.13.3->torch) (1.3.0)\n",
            "Requirement already satisfied: MarkupSafe>=2.0 in /usr/local/lib/python3.12/dist-packages (from jinja2->torch) (3.0.2)\n",
            "Requirement already satisfied: charset_normalizer<4,>=2 in /usr/local/lib/python3.12/dist-packages (from requests->transformers) (3.4.3)\n",
            "Requirement already satisfied: idna<4,>=2.5 in /usr/local/lib/python3.12/dist-packages (from requests->transformers) (3.10)\n",
            "Requirement already satisfied: urllib3<3,>=1.21.1 in /usr/local/lib/python3.12/dist-packages (from requests->transformers) (2.5.0)\n",
            "Requirement already satisfied: certifi>=2017.4.17 in /usr/local/lib/python3.12/dist-packages (from requests->transformers) (2025.8.3)\n"
          ]
        }
      ],
      "source": [
        "# Ee cell ni run cheyandi (Shift + Enter)\n",
        "!pip install transformers accelerate bitsandbytes torch"
      ]
    },
    {
      "cell_type": "code",
      "source": [
        "# Ee cell ni run cheyandi\n",
        "from google.colab import userdata\n",
        "import torch\n",
        "from transformers import AutoTokenizer, AutoModelForCausalLM, BitsAndBytesConfig\n",
        "\n",
        "# Secret nunchi token ni load chestunnam\n",
        "hf_token = userdata.get('HF_TOKEN')\n",
        "\n",
        "print(\"Token loaded successfully!\")"
      ],
      "metadata": {
        "colab": {
          "base_uri": "https://localhost:8080/"
        },
        "id": "N0XAQx5O_YoG",
        "outputId": "86ee9d68-d56a-4fae-b00a-2f7f1cde9e17"
      },
      "execution_count": 28,
      "outputs": [
        {
          "output_type": "stream",
          "name": "stdout",
          "text": [
            "Token loaded successfully!\n"
          ]
        }
      ]
    },
    {
      "cell_type": "code",
      "source": [
        "# Ee cell ni run cheyandi\n",
        "model_id = \"google/gemma-2b-it\"\n",
        "\n",
        "# Model ni memory lo takkuva size lo load cheyadaniki ee configuration\n",
        "quantization_config = BitsAndBytesConfig(load_in_4bit=True)\n",
        "\n",
        "# Tokenizer (mana text ni model ki ardham ayyela marche di)\n",
        "tokenizer = AutoTokenizer.from_pretrained(model_id, token=hf_token)\n",
        "\n",
        "# Model (ide mana AI brain)\n",
        "model = AutoModelForCausalLM.from_pretrained(\n",
        "    model_id,\n",
        "    token=hf_token,\n",
        "    quantization_config=quantization_config,\n",
        "    device_map=\"auto\" # Automatically GPU ni use chesukuntundi\n",
        ")\n",
        "\n",
        "print(\"Model loaded successfully!\")"
      ],
      "metadata": {
        "colab": {
          "base_uri": "https://localhost:8080/",
          "height": 66,
          "referenced_widgets": [
            "f3b6f7a402d241d2b7d7b72e40d4d23a",
            "5c0b8762e4774d32b61651a5f7309851",
            "717af1d4c6e54ad5b8871537ed376b1d",
            "af3d9fa47eb94de385ce453ba4ba4cbc",
            "9e5f59b1bbb747c2927294c00d6c3d49",
            "e93e01dbde2741e6af7b4d000b28caf0",
            "81cffdf65ccf4dc5be83f61ed5daa60e",
            "6613afc28d814cf1a1725a582a9c7ee4",
            "af60f74b8c804a95835adb4a25d996dc",
            "e0c0c1c2c2a74068ac1facfef3ba7d9a",
            "1365e93f3d4349438ba016da03344bb5"
          ]
        },
        "id": "_mOegYEn_jjC",
        "outputId": "765d1c76-e577-4527-9f64-f97bfe5de78d"
      },
      "execution_count": 29,
      "outputs": [
        {
          "output_type": "display_data",
          "data": {
            "text/plain": [
              "Loading checkpoint shards:   0%|          | 0/2 [00:00<?, ?it/s]"
            ],
            "application/vnd.jupyter.widget-view+json": {
              "version_major": 2,
              "version_minor": 0,
              "model_id": "f3b6f7a402d241d2b7d7b72e40d4d23a"
            }
          },
          "metadata": {}
        },
        {
          "output_type": "stream",
          "name": "stdout",
          "text": [
            "Model loaded successfully!\n"
          ]
        }
      ]
    },
    {
      "cell_type": "code",
      "source": [
        "# Ee cell ni run cheyandi\n",
        "def get_financial_advice(question, persona):\n",
        "    # Model ki question ni ela adagalo cheppe format (prompt)\n",
        "    chat_template = [\n",
        "        {\"role\": \"user\", \"content\": f\"You are a helpful Personal Finance assistant. A '{persona}' is asking a question. Answer clearly and concisely. Question: {question}\"}\n",
        "    ]\n",
        "\n",
        "    # Template ni model ki ardham ayye format lo convert chestunnam\n",
        "    prompt = tokenizer.apply_chat_template(chat_template, tokenize=False, add_generation_prompt=True)\n",
        "\n",
        "    # Model ki input prepare chestunnam\n",
        "    inputs = tokenizer.encode(prompt, add_special_tokens=True, return_tensors=\"pt\").to(\"cuda\")\n",
        "\n",
        "    # Model nunchi answer generate chestunnam\n",
        "    outputs = model.generate(input_ids=inputs, max_new_tokens=250)\n",
        "\n",
        "    # Vachina answer ni manaki ardham ayye text la decode chestunnam\n",
        "    response_text = tokenizer.decode(outputs[0], skip_special_tokens=True)\n",
        "\n",
        "    # Only answer part ni teeskuntunnam\n",
        "    final_answer = response_text.split(\"model\\n\")[-1]\n",
        "\n",
        "    return final_answer"
      ],
      "metadata": {
        "id": "jjCH2D-E_r_n"
      },
      "execution_count": 30,
      "outputs": []
    },
    {
      "cell_type": "code",
      "source": [
        "# Ee cell ni run cheyandi\n",
        "# Ikkada mee question and persona ni change chesukondi\n",
        "user_question = \"How can I start investing my money with a small budget?\"\n",
        "user_persona = \"Student\" # \"Student\" or \"Professional\"\n",
        "\n",
        "print(f\"Asking AI as a {user_persona}...\")\n",
        "print(\"-\" * 20)\n",
        "\n",
        "# Mana function ni call chesi, AI nunchi answer testunnam\n",
        "advice = get_financial_advice(user_question, user_persona)\n",
        "\n",
        "# Final answer ni print chestunnam\n",
        "print(advice)"
      ],
      "metadata": {
        "colab": {
          "base_uri": "https://localhost:8080/"
        },
        "id": "lJCox7ixAcic",
        "outputId": "934c3bae-180d-4d25-ad19-f972e24f92ae"
      },
      "execution_count": 31,
      "outputs": [
        {
          "output_type": "stream",
          "name": "stdout",
          "text": [
            "Asking AI as a Student...\n",
            "--------------------\n",
            "**Step 1: Assess your financial situation.**\n",
            "\n",
            "* Calculate your monthly income and expenses.\n",
            "* Identify your monthly savings goals.\n",
            "* Determine your risk tolerance.\n",
            "\n",
            "**Step 2: Create a budget.**\n",
            "\n",
            "* Allocate your income to different categories (e.g., housing, food, transportation, savings, debt repayment).\n",
            "* Use a budgeting app or create a simple spreadsheet.\n",
            "\n",
            "**Step 3: Start small and invest gradually.**\n",
            "\n",
            "* Automate your savings contributions to a separate savings account.\n",
            "* Open a high-yield savings account for emergency funds.\n",
            "* Invest in low-cost, diversified investments like index funds or exchange-traded funds (ETFs).\n",
            "\n",
            "**Step 4: Invest consistently.**\n",
            "\n",
            "* Set aside a specific amount of money each month for investing.\n",
            "* Avoid impulse investments or chasing hot stocks.\n",
            "\n",
            "**Step 5: Educate yourself.**\n",
            "\n",
            "* Read books and articles about investing.\n",
            "* Watch educational videos or attend financial literacy workshops.\n",
            "* Seek professional financial advice if needed.\n",
            "\n",
            "**Step 6: Stay disciplined.**\n",
            "\n",
            "* Avoid emotional decision-making.\n",
            "* Rebalance your portfolio regularly to maintain your desired risk level.\n",
            "\n",
            "**Step 7: Seek professional\n"
          ]
        }
      ]
    },
    {
      "cell_type": "code",
      "source": [
        "# Ee cell ni run cheyandi\n",
        "# Ikkada mee question and persona ni change chesukondi\n",
        "user_question = \"How can I start investing my money with a small budget?\"\n",
        "user_persona = \"Professional\" # \"Student\" or \"Professional\"\n",
        "\n",
        "print(f\"Asking AI as a {user_persona}...\")\n",
        "print(\"-\" * 20)\n",
        "\n",
        "# Mana function ni call chesi, AI nunchi answer testunnam\n",
        "advice = get_financial_advice(user_question, user_persona)\n",
        "\n",
        "# Final answer ni print chestunnam\n",
        "print(advice)"
      ],
      "metadata": {
        "colab": {
          "base_uri": "https://localhost:8080/"
        },
        "id": "RtGxAQGBAnS0",
        "outputId": "88cae24d-d398-4bfb-9dbf-b0803a64f5a7"
      },
      "execution_count": 32,
      "outputs": [
        {
          "output_type": "stream",
          "name": "stdout",
          "text": [
            "Asking AI as a Professional...\n",
            "--------------------\n",
            "**Step 1: Assess your financial situation.**\n",
            "\n",
            "* Review your income and expenses to understand your current financial standing.\n",
            "* Identify areas where you can cut back on unnecessary expenses.\n",
            "* Determine your financial goals and risk tolerance.\n",
            "\n",
            "**Step 2: Create a budget.**\n",
            "\n",
            "* Allocate your income to different categories (e.g., housing, food, transportation, savings, debt repayment).\n",
            "* Use a budgeting app or create a simple spreadsheet.\n",
            "* Adjust your budget as needed based on your income and expenses.\n",
            "\n",
            "**Step 3: Start small and invest consistently.**\n",
            "\n",
            "* Even small investments can make a big difference over time.\n",
            "* Start with a small amount that you can afford to lose.\n",
            "* Automate your investments to ensure consistent contributions.\n",
            "\n",
            "**Step 4: Explore different investment options.**\n",
            "\n",
            "* Consider low-cost index funds or exchange-traded funds (ETFs) for diversification.\n",
            "* Start with index funds or exchange-traded funds (ETFs) for diversification.\n",
            "* Use online brokers to open and manage investments easily.\n",
            "\n",
            "**Step 5: Seek professional advice if needed.**\n",
            "\n",
            "* If you have complex financial needs or are unsure about investing, consider consulting a financial advisor\n"
          ]
        }
      ]
    },
    {
      "cell_type": "markdown",
      "source": [],
      "metadata": {
        "id": "VH7BPRhhLuw7"
      }
    },
    {
      "cell_type": "code",
      "source": [
        "# Ee cell ni run cheyandi\n",
        "# Ikkada mee question and persona ni change chesukondi\n",
        "user_question = \"How can I save while repaying student loan?\"\n",
        "user_persona = \"Student\" # \"Student\" or \"Professional\"\n",
        "\n",
        "print(f\"Asking AI as a {user_persona}...\")\n",
        "print(\"-\" * 20)\n",
        "\n",
        "# Mana function ni call chesi, AI nunchi answer testunnam\n",
        "advice = get_financial_advice(user_question, user_persona)\n",
        "\n",
        "# Final answer ni print chestunnam\n",
        "print(advice)"
      ],
      "metadata": {
        "colab": {
          "base_uri": "https://localhost:8080/"
        },
        "id": "2s4hqN7JAzqY",
        "outputId": "836f7d03-ced2-4ac8-9ed6-6bd3c089e309"
      },
      "execution_count": 33,
      "outputs": [
        {
          "output_type": "stream",
          "name": "stdout",
          "text": [
            "Asking AI as a Student...\n",
            "--------------------\n",
            "**How to Save While Repaying Student Loan**\n",
            "\n",
            "**1. Create a budget:** Track your income and expenses to identify areas where you can save money.\n",
            "\n",
            "**2. Prioritize debt repayment:** Focus on paying off high-interest debt first, such as credit card balances.\n",
            "\n",
            "**3. Reduce unnecessary expenses:** Cut down on unnecessary spending on entertainment, dining out, and subscriptions.\n",
            "\n",
            "**4. Explore side hustles:** Find part-time or full-time jobs to earn additional income.\n",
            "\n",
            "**5. Take advantage of student loan benefits:** Explore options such as income-driven repayment plans (IDRs) or discharge options.\n",
            "\n",
            "**6. Use a high-yield savings account:** Open an account with a high interest rate to save money specifically for loan payments.\n",
            "\n",
            "**7. Avoid lifestyle inflation:** Don't let your expenses increase with inflation.\n",
            "\n",
            "**8. Pay down your loan whenever possible:** The sooner you pay off your loan, the less interest you will pay in the long run.\n",
            "\n",
            "**9. Consider a part-time job:** If you have the flexibility, consider working part-time or full-time to earn extra income.\n",
            "\n",
            "**10. Seek financial aid:** Apply for scholarships,\n"
          ]
        }
      ]
    },
    {
      "cell_type": "code",
      "source": [
        "\n",
        "user_question = \"help me with financial concerns such as over spending?\"\n",
        "user_persona = \"Student\" # \"Student\" or \"Professional\"\n",
        "\n",
        "print(f\"Asking AI as a {user_persona}...\")\n",
        "print(\"-\" * 20)\n",
        "\n",
        "# Mana function ni call chesi, AI nunchi answer testunnam\n",
        "advice = get_financial_advice(user_question, user_persona)\n",
        "\n",
        "\n",
        "print(advice)"
      ],
      "metadata": {
        "colab": {
          "base_uri": "https://localhost:8080/"
        },
        "id": "Y0WRYl9fBGYk",
        "outputId": "d086cfda-697b-4b69-c380-e9e62d749cad"
      },
      "execution_count": 34,
      "outputs": [
        {
          "output_type": "stream",
          "name": "stdout",
          "text": [
            "Asking AI as a Student...\n",
            "--------------------\n",
            "**Sure, I can help!**\n",
            "\n",
            "**Here are some tips to help you manage your finances and avoid overspending:**\n",
            "\n",
            "* **Track your spending:** Keep a detailed record of your income and expenses for a few weeks. This will help you identify areas where you can cut back.\n",
            "* **Set financial goals:** Define specific, measurable, achievable, relevant, and time-bound (SMART) goals for your money. This will give you a sense of direction and motivation.\n",
            "* **Create a budget:** Allocate your income to different categories, such as housing, food, transportation, and savings.\n",
            "* **Pay off debt:** High-interest debt can quickly snowball out of control. Focus on paying off debts with high interest rates first.\n",
            "* **Avoid impulse purchases:** Before making a purchase, take some time to consider whether it aligns with your financial goals.\n",
            "* **Use cash instead of credit cards:** Cash transactions are less likely to lead to overspending.\n",
            "* **Be realistic:** Don't try to change your financial situation overnight. Start with small, achievable changes and gradually work your way up.\n",
            "* **Seek professional help:** If you're struggling to manage your finances on your own, consider seeking help\n"
          ]
        }
      ]
    },
    {
      "cell_type": "code",
      "source": [
        "user_question = \"How can I save while repaying  loan?\"\n",
        "user_persona = \"Professional\" # \"Student\" or \"Professional\"\n",
        "\n",
        "print(f\"Asking AI as a {user_persona}...\")\n",
        "print(\"-\" * 20)\n",
        "\n",
        "# Mana function ni call chesi, AI nunchi answer testunnam\n",
        "advice = get_financial_advice(user_question, user_persona)\n",
        "\n",
        "# Final answer ni print chestunnam\n",
        "print(advice)"
      ],
      "metadata": {
        "colab": {
          "base_uri": "https://localhost:8080/"
        },
        "id": "iTce3oAMBcbL",
        "outputId": "5b8b79b7-938f-4e51-b80f-7f0f7c1f732e"
      },
      "execution_count": 35,
      "outputs": [
        {
          "output_type": "stream",
          "name": "stdout",
          "text": [
            "Asking AI as a Professional...\n",
            "--------------------\n",
            "**Step 1: Analyze your financial situation.**\n",
            "\n",
            "* Calculate your monthly income and expenses.\n",
            "* Identify areas where you can cut back on spending.\n",
            "* Determine your debt-to-income ratio and prioritize paying off high-interest debt first.\n",
            "\n",
            "**Step 2: Create a realistic savings plan.**\n",
            "\n",
            "* Set specific savings goals, such as paying off debt or saving for a down payment.\n",
            "* Allocate a specific amount of money each month to savings.\n",
            "* Consider increasing your income through a side hustle or taking on a part-time job.\n",
            "\n",
            "**Step 3: Reduce your debt.**\n",
            "\n",
            "* Make minimum payments on all debts, including credit card bills.\n",
            "* Explore debt consolidation options to simplify your repayment process.\n",
            "* Consider debt settlement programs that can lower your interest rates.\n",
            "\n",
            "**Step 4: Pay down your loan.**\n",
            "\n",
            "* Focus on paying off the smallest debts first.\n",
            "* Use the snowball effect to save up your savings first.\n",
            "* Consider taking on a part-time job or starting a side hustle to generate additional income.\n",
            "\n",
            "**Step 5: Avoid unnecessary expenses.**\n",
            "\n",
            "* Review your spending and identify areas where you can cut back on unnecessary expenses.\n",
            "* Consider switching to\n"
          ]
        }
      ]
    },
    {
      "cell_type": "code",
      "source": [
        "\n",
        "# 1. Ikkada mee question marchandi\n",
        "user_question = \"how much should Isave from my salary?\"\n",
        "\n",
        "# 2. Ikkada persona marchandi\n",
        "user_persona = \"Professional\"\n",
        "\n",
        "# 3. Ee cell ni run cheyandi\n",
        "print(f\"Asking AI as a {user_persona}...\")\n",
        "print(\"-\" * 20)\n",
        "advice = get_financial_advice(user_question, user_persona)\n",
        "print(advice)"
      ],
      "metadata": {
        "colab": {
          "base_uri": "https://localhost:8080/"
        },
        "id": "WHWj79hEG3UK",
        "outputId": "c52bfb86-1514-4e23-902c-a27189bc225d"
      },
      "execution_count": 36,
      "outputs": [
        {
          "output_type": "stream",
          "name": "stdout",
          "text": [
            "Asking AI as a Professional...\n",
            "--------------------\n",
            "Sure, I can help! To give you a more accurate answer, I need to know a few things about you and your financial situation. \n",
            "\n",
            "Here are some questions that will help me give you a more personalized estimate:\n",
            "\n",
            "* **What is your monthly take-home pay?**\n",
            "* **What are your monthly expenses?**\n",
            "* **What are your financial goals?**\n",
            "* **What are your current debts and financial obligations?**\n",
            "* **Do you have any dependents?**\n",
            "* **What is your current savings rate?**\n",
            "\n",
            "Once I have this information, I can calculate your disposable income and determine how much Isave you should allocate from your salary.\n",
            "\n",
            "Please feel free to provide as much detail as you are comfortable with, and I will do my best to provide you with a tailored estimate.\n"
          ]
        }
      ]
    },
    {
      "cell_type": "code",
      "source": [
        "# 1. Ikkada mee question marchandi\n",
        "user_question = \"how much should Isave from my salary?\"\n",
        "\n",
        "# 2. Ikkada persona marchandi\n",
        "user_persona = \"Professional\"\n",
        "\n",
        "# 3. Ee cell ni run cheyandi\n",
        "print(f\"Asking AI as a {user_persona}...\")\n",
        "print(\"-\" * 20)\n",
        "advice = get_financial_advice(user_question, user_persona)\n",
        "print(advice)"
      ],
      "metadata": {
        "colab": {
          "base_uri": "https://localhost:8080/"
        },
        "id": "cNcnOFwwHmCA",
        "outputId": "dedb0f67-6b7c-4930-9f83-34f2fdfc0499"
      },
      "execution_count": 37,
      "outputs": [
        {
          "output_type": "stream",
          "name": "stdout",
          "text": [
            "Asking AI as a Professional...\n",
            "--------------------\n",
            "Sure, I can help! To give you a more accurate answer, I need to know a few things about you and your financial situation. \n",
            "\n",
            "Here are some questions that will help me give you a more personalized estimate:\n",
            "\n",
            "* **What is your monthly take-home pay?**\n",
            "* **What are your monthly expenses?**\n",
            "* **What are your financial goals?**\n",
            "* **What are your current debts and financial obligations?**\n",
            "* **Do you have any dependents?**\n",
            "* **What is your current savings rate?**\n",
            "\n",
            "Once I have this information, I can calculate your disposable income and determine how much Isave you should allocate from your salary.\n",
            "\n",
            "Please feel free to provide as much detail as you are comfortable with, and I will do my best to provide you with a tailored estimate.\n"
          ]
        }
      ]
    },
    {
      "cell_type": "code",
      "source": [
        "# 1. Ikkada mee question marchandi\n",
        "user_question = \"how much should I save from my savings?\"\n",
        "\n",
        "# 2. Ikkada persona marchandi\n",
        "user_persona = \"student\"\n",
        "\n",
        "# 3. Ee cell ni run cheyandi\n",
        "print(f\"Asking AI as a {user_persona}...\")\n",
        "print(\"-\" * 20)\n",
        "advice = get_financial_advice(user_question, user_persona)\n",
        "print(advice)"
      ],
      "metadata": {
        "colab": {
          "base_uri": "https://localhost:8080/"
        },
        "id": "t4_RKtU1IGvx",
        "outputId": "b986a083-cfb6-4400-be38-1ec774e76572"
      },
      "execution_count": 38,
      "outputs": [
        {
          "output_type": "stream",
          "name": "stdout",
          "text": [
            "Asking AI as a student...\n",
            "--------------------\n",
            "**Answer:**\n",
            "\n",
            "**Step 1: Assess your financial situation.**\n",
            "\n",
            "* Calculate your monthly take-home pay after taxes and deductions.\n",
            "* Determine your monthly expenses, including housing, food, transportation, and other essential costs.\n",
            "* Calculate your monthly savings goal based on your financial goals and priorities.\n",
            "\n",
            "**Step 2: Set realistic savings goals.**\n",
            "\n",
            "* Start with a manageable amount that you can consistently save each month.\n",
            "* Break down your savings goals into smaller, achievable milestones.\n",
            "* Consider your short-term and long-term financial objectives.\n",
            "\n",
            "**Step 3: Prioritize savings.**\n",
            "\n",
            "* Identify areas where you can cut back on spending to free up more money for savings.\n",
            "* Consider reducing unnecessary expenses, investing in your education, or seeking financial aid.\n",
            "\n",
            "**Step 4: Automate your savings.**\n",
            "\n",
            "* Set up automatic transfers from your checking to savings on a regular basis.\n",
            "* This ensures that you're consistently saving without having to think about it.\n",
            "\n",
            "**Step 5: Stay motivated.**\n",
            "\n",
            "* Track your savings progress and celebrate your milestones.\n",
            "* Seek financial advice from a financial advisor if needed.\n",
            "\n",
            "**Remember:**\n",
            "\n",
            "* The amount you save is personal and depends\n"
          ]
        }
      ]
    },
    {
      "cell_type": "code",
      "source": [
        "# 1. Ikkada mee question marchandi\n",
        "user_question = \"how much should Isave from my salary?\"\n",
        "\n",
        "# 2. Ikkada persona marchandi\n",
        "user_persona = \"Professional\"\n",
        "\n",
        "# 3. Ee cell ni run cheyandi\n",
        "print(f\"Asking AI as a {user_persona}...\")\n",
        "print(\"-\" * 20)\n",
        "advice = get_financial_advice(user_question, user_persona)\n",
        "print(advice)"
      ],
      "metadata": {
        "colab": {
          "base_uri": "https://localhost:8080/"
        },
        "id": "8yDhxYGnKXWH",
        "outputId": "8e0348c6-b06b-41a3-f02e-ad14dc63d421"
      },
      "execution_count": 39,
      "outputs": [
        {
          "output_type": "stream",
          "name": "stdout",
          "text": [
            "Asking AI as a Professional...\n",
            "--------------------\n",
            "Sure, I can help! To give you a more accurate answer, I need to know a few things about you and your financial situation. \n",
            "\n",
            "Here are some questions that will help me give you a more personalized estimate:\n",
            "\n",
            "* **What is your monthly take-home pay?**\n",
            "* **What are your monthly expenses?**\n",
            "* **What are your financial goals?**\n",
            "* **What are your current debts and financial obligations?**\n",
            "* **Do you have any dependents?**\n",
            "* **What is your current savings rate?**\n",
            "\n",
            "Once I have this information, I can calculate your disposable income and determine how much Isave you should allocate from your salary.\n",
            "\n",
            "Please feel free to provide as much detail as you are comfortable with, and I will do my best to provide you with a tailored estimate.\n"
          ]
        }
      ]
    },
    {
      "cell_type": "code",
      "source": [
        "# Ee FINAL CELL lo ee విధంగా ivvandi\n",
        "\n",
        "# 1. Ikkada mee complete question ni pettandi\n",
        "# IMPORTANT: Ee triple quotes (\"\"\") chala mukhyam\n",
        "user_question = \"\"\"\n",
        "I am a Professional. Based on my financial situation below, please tell me how much I should save from my salary and give me some advice.\n",
        "\n",
        "- My monthly take-home pay is: 80,000 INR\n",
        "- My monthly expenses are: 45,000 INR (Rent: 20,000, Groceries: 10,000, Transport: 5,000, Other bills: 10,000)\n",
        "- My financial goals are: To save for a down payment for a house in 3 years.\n",
        "- My current debts: I have a personal loan with a monthly EMI of 5,000 INR.\n",
        "- Dependents: I have no dependents.\n",
        "- My current savings rate is very low, around 5,000 INR per month.\n",
        "\"\"\"\n",
        "\n",
        "# 2. Ikkada persona marchandi\n",
        "user_persona = \"Professional\"\n",
        "\n",
        "# 3. Ee cell ni run cheyandi\n",
        "print(f\"Asking AI as a {user_persona}...\")\n",
        "print(\"-\" * 20)\n",
        "advice = get_financial_advice(user_question, user_persona)\n",
        "print(advice)"
      ],
      "metadata": {
        "id": "UcavTarCNPRh",
        "outputId": "715e6cc5-1d20-47aa-e8a4-9a918325ceaa",
        "colab": {
          "base_uri": "https://localhost:8080/"
        }
      },
      "execution_count": 42,
      "outputs": [
        {
          "output_type": "stream",
          "name": "stdout",
          "text": [
            "Asking AI as a Professional...\n",
            "--------------------\n",
            "**Savings Recommendation:**\n",
            "\n",
            "* **Save 25,000 INR per month** towards your down payment for the house.\n",
            "* **Reduce your expenses** to free up more money for savings.\n",
            "* **Pay off your personal loan** as soon as possible to save on interest charges.\n",
            "* **Invest your savings** in a high-interest savings account or a government-backed pension scheme.\n",
            "* **Review your financial goals** and adjust your savings plan as needed.\n",
            "\n",
            "**Additional Advice:**\n",
            "\n",
            "* **Create a realistic budget** to track your income and expenses.\n",
            "* **Automate your savings** to ensure consistent contributions.\n",
            "* **Seek professional financial advice** if necessary.\n",
            "* **Stay disciplined and patient** with your savings journey.\n",
            "* **Review your financial situation regularly** to make adjustments as needed.\n"
          ]
        }
      ]
    },
    {
      "cell_type": "code",
      "source": [],
      "metadata": {
        "id": "byqyP1PZOZK_"
      },
      "execution_count": null,
      "outputs": []
    }
  ],
  "metadata": {
    "accelerator": "GPU",
    "colab": {
      "gpuType": "T4",
      "provenance": []
    },
    "kernelspec": {
      "display_name": "Python 3",
      "name": "python3"
    },
    "language_info": {
      "name": "python"
    },
    "widgets": {
      "application/vnd.jupyter.widget-state+json": {
        "0b0d00f582de4875bf34d3fd1d1bf5f8": {
          "model_module": "@jupyter-widgets/controls",
          "model_name": "HBoxModel",
          "model_module_version": "1.5.0",
          "state": {
            "_dom_classes": [],
            "_model_module": "@jupyter-widgets/controls",
            "_model_module_version": "1.5.0",
            "_model_name": "HBoxModel",
            "_view_count": null,
            "_view_module": "@jupyter-widgets/controls",
            "_view_module_version": "1.5.0",
            "_view_name": "HBoxView",
            "box_style": "",
            "children": [
              "IPY_MODEL_402fc7a4cb4349558169afc1187d8eee",
              "IPY_MODEL_bdc8cd24867b435ebd912fc9e7b28bf9",
              "IPY_MODEL_4950698d58474db38c63d698d7c0bb5a"
            ],
            "layout": "IPY_MODEL_6e8926d409b74656abbcbdaf4869498e"
          }
        },
        "402fc7a4cb4349558169afc1187d8eee": {
          "model_module": "@jupyter-widgets/controls",
          "model_name": "HTMLModel",
          "model_module_version": "1.5.0",
          "state": {
            "_dom_classes": [],
            "_model_module": "@jupyter-widgets/controls",
            "_model_module_version": "1.5.0",
            "_model_name": "HTMLModel",
            "_view_count": null,
            "_view_module": "@jupyter-widgets/controls",
            "_view_module_version": "1.5.0",
            "_view_name": "HTMLView",
            "description": "",
            "description_tooltip": null,
            "layout": "IPY_MODEL_78ae7c0695a046fbb5d45d7e7bf4f51a",
            "placeholder": "​",
            "style": "IPY_MODEL_fa61eabae05c44f483bb5f7debeb2290",
            "value": "Loading checkpoint shards: 100%"
          }
        },
        "bdc8cd24867b435ebd912fc9e7b28bf9": {
          "model_module": "@jupyter-widgets/controls",
          "model_name": "FloatProgressModel",
          "model_module_version": "1.5.0",
          "state": {
            "_dom_classes": [],
            "_model_module": "@jupyter-widgets/controls",
            "_model_module_version": "1.5.0",
            "_model_name": "FloatProgressModel",
            "_view_count": null,
            "_view_module": "@jupyter-widgets/controls",
            "_view_module_version": "1.5.0",
            "_view_name": "ProgressView",
            "bar_style": "success",
            "description": "",
            "description_tooltip": null,
            "layout": "IPY_MODEL_0ff37ac86c3844799e011665d8eebea3",
            "max": 2,
            "min": 0,
            "orientation": "horizontal",
            "style": "IPY_MODEL_4920c8ce5e844a56a08da1dba44db4aa",
            "value": 2
          }
        },
        "4950698d58474db38c63d698d7c0bb5a": {
          "model_module": "@jupyter-widgets/controls",
          "model_name": "HTMLModel",
          "model_module_version": "1.5.0",
          "state": {
            "_dom_classes": [],
            "_model_module": "@jupyter-widgets/controls",
            "_model_module_version": "1.5.0",
            "_model_name": "HTMLModel",
            "_view_count": null,
            "_view_module": "@jupyter-widgets/controls",
            "_view_module_version": "1.5.0",
            "_view_name": "HTMLView",
            "description": "",
            "description_tooltip": null,
            "layout": "IPY_MODEL_ae16b33402a2417496c4c7b37246d4e2",
            "placeholder": "​",
            "style": "IPY_MODEL_abb3b7bfd2ec47f9b11b89ffe3e76ba8",
            "value": " 2/2 [00:16&lt;00:00,  6.67s/it]"
          }
        },
        "6e8926d409b74656abbcbdaf4869498e": {
          "model_module": "@jupyter-widgets/base",
          "model_name": "LayoutModel",
          "model_module_version": "1.2.0",
          "state": {
            "_model_module": "@jupyter-widgets/base",
            "_model_module_version": "1.2.0",
            "_model_name": "LayoutModel",
            "_view_count": null,
            "_view_module": "@jupyter-widgets/base",
            "_view_module_version": "1.2.0",
            "_view_name": "LayoutView",
            "align_content": null,
            "align_items": null,
            "align_self": null,
            "border": null,
            "bottom": null,
            "display": null,
            "flex": null,
            "flex_flow": null,
            "grid_area": null,
            "grid_auto_columns": null,
            "grid_auto_flow": null,
            "grid_auto_rows": null,
            "grid_column": null,
            "grid_gap": null,
            "grid_row": null,
            "grid_template_areas": null,
            "grid_template_columns": null,
            "grid_template_rows": null,
            "height": null,
            "justify_content": null,
            "justify_items": null,
            "left": null,
            "margin": null,
            "max_height": null,
            "max_width": null,
            "min_height": null,
            "min_width": null,
            "object_fit": null,
            "object_position": null,
            "order": null,
            "overflow": null,
            "overflow_x": null,
            "overflow_y": null,
            "padding": null,
            "right": null,
            "top": null,
            "visibility": null,
            "width": null
          }
        },
        "78ae7c0695a046fbb5d45d7e7bf4f51a": {
          "model_module": "@jupyter-widgets/base",
          "model_name": "LayoutModel",
          "model_module_version": "1.2.0",
          "state": {
            "_model_module": "@jupyter-widgets/base",
            "_model_module_version": "1.2.0",
            "_model_name": "LayoutModel",
            "_view_count": null,
            "_view_module": "@jupyter-widgets/base",
            "_view_module_version": "1.2.0",
            "_view_name": "LayoutView",
            "align_content": null,
            "align_items": null,
            "align_self": null,
            "border": null,
            "bottom": null,
            "display": null,
            "flex": null,
            "flex_flow": null,
            "grid_area": null,
            "grid_auto_columns": null,
            "grid_auto_flow": null,
            "grid_auto_rows": null,
            "grid_column": null,
            "grid_gap": null,
            "grid_row": null,
            "grid_template_areas": null,
            "grid_template_columns": null,
            "grid_template_rows": null,
            "height": null,
            "justify_content": null,
            "justify_items": null,
            "left": null,
            "margin": null,
            "max_height": null,
            "max_width": null,
            "min_height": null,
            "min_width": null,
            "object_fit": null,
            "object_position": null,
            "order": null,
            "overflow": null,
            "overflow_x": null,
            "overflow_y": null,
            "padding": null,
            "right": null,
            "top": null,
            "visibility": null,
            "width": null
          }
        },
        "fa61eabae05c44f483bb5f7debeb2290": {
          "model_module": "@jupyter-widgets/controls",
          "model_name": "DescriptionStyleModel",
          "model_module_version": "1.5.0",
          "state": {
            "_model_module": "@jupyter-widgets/controls",
            "_model_module_version": "1.5.0",
            "_model_name": "DescriptionStyleModel",
            "_view_count": null,
            "_view_module": "@jupyter-widgets/base",
            "_view_module_version": "1.2.0",
            "_view_name": "StyleView",
            "description_width": ""
          }
        },
        "0ff37ac86c3844799e011665d8eebea3": {
          "model_module": "@jupyter-widgets/base",
          "model_name": "LayoutModel",
          "model_module_version": "1.2.0",
          "state": {
            "_model_module": "@jupyter-widgets/base",
            "_model_module_version": "1.2.0",
            "_model_name": "LayoutModel",
            "_view_count": null,
            "_view_module": "@jupyter-widgets/base",
            "_view_module_version": "1.2.0",
            "_view_name": "LayoutView",
            "align_content": null,
            "align_items": null,
            "align_self": null,
            "border": null,
            "bottom": null,
            "display": null,
            "flex": null,
            "flex_flow": null,
            "grid_area": null,
            "grid_auto_columns": null,
            "grid_auto_flow": null,
            "grid_auto_rows": null,
            "grid_column": null,
            "grid_gap": null,
            "grid_row": null,
            "grid_template_areas": null,
            "grid_template_columns": null,
            "grid_template_rows": null,
            "height": null,
            "justify_content": null,
            "justify_items": null,
            "left": null,
            "margin": null,
            "max_height": null,
            "max_width": null,
            "min_height": null,
            "min_width": null,
            "object_fit": null,
            "object_position": null,
            "order": null,
            "overflow": null,
            "overflow_x": null,
            "overflow_y": null,
            "padding": null,
            "right": null,
            "top": null,
            "visibility": null,
            "width": null
          }
        },
        "4920c8ce5e844a56a08da1dba44db4aa": {
          "model_module": "@jupyter-widgets/controls",
          "model_name": "ProgressStyleModel",
          "model_module_version": "1.5.0",
          "state": {
            "_model_module": "@jupyter-widgets/controls",
            "_model_module_version": "1.5.0",
            "_model_name": "ProgressStyleModel",
            "_view_count": null,
            "_view_module": "@jupyter-widgets/base",
            "_view_module_version": "1.2.0",
            "_view_name": "StyleView",
            "bar_color": null,
            "description_width": ""
          }
        },
        "ae16b33402a2417496c4c7b37246d4e2": {
          "model_module": "@jupyter-widgets/base",
          "model_name": "LayoutModel",
          "model_module_version": "1.2.0",
          "state": {
            "_model_module": "@jupyter-widgets/base",
            "_model_module_version": "1.2.0",
            "_model_name": "LayoutModel",
            "_view_count": null,
            "_view_module": "@jupyter-widgets/base",
            "_view_module_version": "1.2.0",
            "_view_name": "LayoutView",
            "align_content": null,
            "align_items": null,
            "align_self": null,
            "border": null,
            "bottom": null,
            "display": null,
            "flex": null,
            "flex_flow": null,
            "grid_area": null,
            "grid_auto_columns": null,
            "grid_auto_flow": null,
            "grid_auto_rows": null,
            "grid_column": null,
            "grid_gap": null,
            "grid_row": null,
            "grid_template_areas": null,
            "grid_template_columns": null,
            "grid_template_rows": null,
            "height": null,
            "justify_content": null,
            "justify_items": null,
            "left": null,
            "margin": null,
            "max_height": null,
            "max_width": null,
            "min_height": null,
            "min_width": null,
            "object_fit": null,
            "object_position": null,
            "order": null,
            "overflow": null,
            "overflow_x": null,
            "overflow_y": null,
            "padding": null,
            "right": null,
            "top": null,
            "visibility": null,
            "width": null
          }
        },
        "abb3b7bfd2ec47f9b11b89ffe3e76ba8": {
          "model_module": "@jupyter-widgets/controls",
          "model_name": "DescriptionStyleModel",
          "model_module_version": "1.5.0",
          "state": {
            "_model_module": "@jupyter-widgets/controls",
            "_model_module_version": "1.5.0",
            "_model_name": "DescriptionStyleModel",
            "_view_count": null,
            "_view_module": "@jupyter-widgets/base",
            "_view_module_version": "1.2.0",
            "_view_name": "StyleView",
            "description_width": ""
          }
        },
        "de0c396b78824b15ba7ef1996117b335": {
          "model_module": "@jupyter-widgets/controls",
          "model_name": "HBoxModel",
          "model_module_version": "1.5.0",
          "state": {
            "_dom_classes": [],
            "_model_module": "@jupyter-widgets/controls",
            "_model_module_version": "1.5.0",
            "_model_name": "HBoxModel",
            "_view_count": null,
            "_view_module": "@jupyter-widgets/controls",
            "_view_module_version": "1.5.0",
            "_view_name": "HBoxView",
            "box_style": "",
            "children": [
              "IPY_MODEL_b80272fb554b4fc58c72362561283292",
              "IPY_MODEL_0e150aec8a6a43f0b91fe49cf5515b4e",
              "IPY_MODEL_65d65f9768754e31b5a3da19b35ad37b"
            ],
            "layout": "IPY_MODEL_e00a2000faf54d81bac438e11efa1e6b"
          }
        },
        "b80272fb554b4fc58c72362561283292": {
          "model_module": "@jupyter-widgets/controls",
          "model_name": "HTMLModel",
          "model_module_version": "1.5.0",
          "state": {
            "_dom_classes": [],
            "_model_module": "@jupyter-widgets/controls",
            "_model_module_version": "1.5.0",
            "_model_name": "HTMLModel",
            "_view_count": null,
            "_view_module": "@jupyter-widgets/controls",
            "_view_module_version": "1.5.0",
            "_view_name": "HTMLView",
            "description": "",
            "description_tooltip": null,
            "layout": "IPY_MODEL_d3630ae026134efdb151241373a69f42",
            "placeholder": "​",
            "style": "IPY_MODEL_1b6ff7c7c5be454fac579520fa31c908",
            "value": "Loading checkpoint shards: 100%"
          }
        },
        "0e150aec8a6a43f0b91fe49cf5515b4e": {
          "model_module": "@jupyter-widgets/controls",
          "model_name": "FloatProgressModel",
          "model_module_version": "1.5.0",
          "state": {
            "_dom_classes": [],
            "_model_module": "@jupyter-widgets/controls",
            "_model_module_version": "1.5.0",
            "_model_name": "FloatProgressModel",
            "_view_count": null,
            "_view_module": "@jupyter-widgets/controls",
            "_view_module_version": "1.5.0",
            "_view_name": "ProgressView",
            "bar_style": "success",
            "description": "",
            "description_tooltip": null,
            "layout": "IPY_MODEL_e1aa9f6dfb9348e493ede1af9d2c2150",
            "max": 2,
            "min": 0,
            "orientation": "horizontal",
            "style": "IPY_MODEL_2535a4a72312492097a01c43faaa1ad2",
            "value": 2
          }
        },
        "65d65f9768754e31b5a3da19b35ad37b": {
          "model_module": "@jupyter-widgets/controls",
          "model_name": "HTMLModel",
          "model_module_version": "1.5.0",
          "state": {
            "_dom_classes": [],
            "_model_module": "@jupyter-widgets/controls",
            "_model_module_version": "1.5.0",
            "_model_name": "HTMLModel",
            "_view_count": null,
            "_view_module": "@jupyter-widgets/controls",
            "_view_module_version": "1.5.0",
            "_view_name": "HTMLView",
            "description": "",
            "description_tooltip": null,
            "layout": "IPY_MODEL_85f2daddb6cd49d98a9f3d65a6ec0a58",
            "placeholder": "​",
            "style": "IPY_MODEL_b4abf811f57241c4824fb385240f1173",
            "value": " 2/2 [00:15&lt;00:00,  6.45s/it]"
          }
        },
        "e00a2000faf54d81bac438e11efa1e6b": {
          "model_module": "@jupyter-widgets/base",
          "model_name": "LayoutModel",
          "model_module_version": "1.2.0",
          "state": {
            "_model_module": "@jupyter-widgets/base",
            "_model_module_version": "1.2.0",
            "_model_name": "LayoutModel",
            "_view_count": null,
            "_view_module": "@jupyter-widgets/base",
            "_view_module_version": "1.2.0",
            "_view_name": "LayoutView",
            "align_content": null,
            "align_items": null,
            "align_self": null,
            "border": null,
            "bottom": null,
            "display": null,
            "flex": null,
            "flex_flow": null,
            "grid_area": null,
            "grid_auto_columns": null,
            "grid_auto_flow": null,
            "grid_auto_rows": null,
            "grid_column": null,
            "grid_gap": null,
            "grid_row": null,
            "grid_template_areas": null,
            "grid_template_columns": null,
            "grid_template_rows": null,
            "height": null,
            "justify_content": null,
            "justify_items": null,
            "left": null,
            "margin": null,
            "max_height": null,
            "max_width": null,
            "min_height": null,
            "min_width": null,
            "object_fit": null,
            "object_position": null,
            "order": null,
            "overflow": null,
            "overflow_x": null,
            "overflow_y": null,
            "padding": null,
            "right": null,
            "top": null,
            "visibility": null,
            "width": null
          }
        },
        "d3630ae026134efdb151241373a69f42": {
          "model_module": "@jupyter-widgets/base",
          "model_name": "LayoutModel",
          "model_module_version": "1.2.0",
          "state": {
            "_model_module": "@jupyter-widgets/base",
            "_model_module_version": "1.2.0",
            "_model_name": "LayoutModel",
            "_view_count": null,
            "_view_module": "@jupyter-widgets/base",
            "_view_module_version": "1.2.0",
            "_view_name": "LayoutView",
            "align_content": null,
            "align_items": null,
            "align_self": null,
            "border": null,
            "bottom": null,
            "display": null,
            "flex": null,
            "flex_flow": null,
            "grid_area": null,
            "grid_auto_columns": null,
            "grid_auto_flow": null,
            "grid_auto_rows": null,
            "grid_column": null,
            "grid_gap": null,
            "grid_row": null,
            "grid_template_areas": null,
            "grid_template_columns": null,
            "grid_template_rows": null,
            "height": null,
            "justify_content": null,
            "justify_items": null,
            "left": null,
            "margin": null,
            "max_height": null,
            "max_width": null,
            "min_height": null,
            "min_width": null,
            "object_fit": null,
            "object_position": null,
            "order": null,
            "overflow": null,
            "overflow_x": null,
            "overflow_y": null,
            "padding": null,
            "right": null,
            "top": null,
            "visibility": null,
            "width": null
          }
        },
        "1b6ff7c7c5be454fac579520fa31c908": {
          "model_module": "@jupyter-widgets/controls",
          "model_name": "DescriptionStyleModel",
          "model_module_version": "1.5.0",
          "state": {
            "_model_module": "@jupyter-widgets/controls",
            "_model_module_version": "1.5.0",
            "_model_name": "DescriptionStyleModel",
            "_view_count": null,
            "_view_module": "@jupyter-widgets/base",
            "_view_module_version": "1.2.0",
            "_view_name": "StyleView",
            "description_width": ""
          }
        },
        "e1aa9f6dfb9348e493ede1af9d2c2150": {
          "model_module": "@jupyter-widgets/base",
          "model_name": "LayoutModel",
          "model_module_version": "1.2.0",
          "state": {
            "_model_module": "@jupyter-widgets/base",
            "_model_module_version": "1.2.0",
            "_model_name": "LayoutModel",
            "_view_count": null,
            "_view_module": "@jupyter-widgets/base",
            "_view_module_version": "1.2.0",
            "_view_name": "LayoutView",
            "align_content": null,
            "align_items": null,
            "align_self": null,
            "border": null,
            "bottom": null,
            "display": null,
            "flex": null,
            "flex_flow": null,
            "grid_area": null,
            "grid_auto_columns": null,
            "grid_auto_flow": null,
            "grid_auto_rows": null,
            "grid_column": null,
            "grid_gap": null,
            "grid_row": null,
            "grid_template_areas": null,
            "grid_template_columns": null,
            "grid_template_rows": null,
            "height": null,
            "justify_content": null,
            "justify_items": null,
            "left": null,
            "margin": null,
            "max_height": null,
            "max_width": null,
            "min_height": null,
            "min_width": null,
            "object_fit": null,
            "object_position": null,
            "order": null,
            "overflow": null,
            "overflow_x": null,
            "overflow_y": null,
            "padding": null,
            "right": null,
            "top": null,
            "visibility": null,
            "width": null
          }
        },
        "2535a4a72312492097a01c43faaa1ad2": {
          "model_module": "@jupyter-widgets/controls",
          "model_name": "ProgressStyleModel",
          "model_module_version": "1.5.0",
          "state": {
            "_model_module": "@jupyter-widgets/controls",
            "_model_module_version": "1.5.0",
            "_model_name": "ProgressStyleModel",
            "_view_count": null,
            "_view_module": "@jupyter-widgets/base",
            "_view_module_version": "1.2.0",
            "_view_name": "StyleView",
            "bar_color": null,
            "description_width": ""
          }
        },
        "85f2daddb6cd49d98a9f3d65a6ec0a58": {
          "model_module": "@jupyter-widgets/base",
          "model_name": "LayoutModel",
          "model_module_version": "1.2.0",
          "state": {
            "_model_module": "@jupyter-widgets/base",
            "_model_module_version": "1.2.0",
            "_model_name": "LayoutModel",
            "_view_count": null,
            "_view_module": "@jupyter-widgets/base",
            "_view_module_version": "1.2.0",
            "_view_name": "LayoutView",
            "align_content": null,
            "align_items": null,
            "align_self": null,
            "border": null,
            "bottom": null,
            "display": null,
            "flex": null,
            "flex_flow": null,
            "grid_area": null,
            "grid_auto_columns": null,
            "grid_auto_flow": null,
            "grid_auto_rows": null,
            "grid_column": null,
            "grid_gap": null,
            "grid_row": null,
            "grid_template_areas": null,
            "grid_template_columns": null,
            "grid_template_rows": null,
            "height": null,
            "justify_content": null,
            "justify_items": null,
            "left": null,
            "margin": null,
            "max_height": null,
            "max_width": null,
            "min_height": null,
            "min_width": null,
            "object_fit": null,
            "object_position": null,
            "order": null,
            "overflow": null,
            "overflow_x": null,
            "overflow_y": null,
            "padding": null,
            "right": null,
            "top": null,
            "visibility": null,
            "width": null
          }
        },
        "b4abf811f57241c4824fb385240f1173": {
          "model_module": "@jupyter-widgets/controls",
          "model_name": "DescriptionStyleModel",
          "model_module_version": "1.5.0",
          "state": {
            "_model_module": "@jupyter-widgets/controls",
            "_model_module_version": "1.5.0",
            "_model_name": "DescriptionStyleModel",
            "_view_count": null,
            "_view_module": "@jupyter-widgets/base",
            "_view_module_version": "1.2.0",
            "_view_name": "StyleView",
            "description_width": ""
          }
        },
        "f3b6f7a402d241d2b7d7b72e40d4d23a": {
          "model_module": "@jupyter-widgets/controls",
          "model_name": "HBoxModel",
          "model_module_version": "1.5.0",
          "state": {
            "_dom_classes": [],
            "_model_module": "@jupyter-widgets/controls",
            "_model_module_version": "1.5.0",
            "_model_name": "HBoxModel",
            "_view_count": null,
            "_view_module": "@jupyter-widgets/controls",
            "_view_module_version": "1.5.0",
            "_view_name": "HBoxView",
            "box_style": "",
            "children": [
              "IPY_MODEL_5c0b8762e4774d32b61651a5f7309851",
              "IPY_MODEL_717af1d4c6e54ad5b8871537ed376b1d",
              "IPY_MODEL_af3d9fa47eb94de385ce453ba4ba4cbc"
            ],
            "layout": "IPY_MODEL_9e5f59b1bbb747c2927294c00d6c3d49"
          }
        },
        "5c0b8762e4774d32b61651a5f7309851": {
          "model_module": "@jupyter-widgets/controls",
          "model_name": "HTMLModel",
          "model_module_version": "1.5.0",
          "state": {
            "_dom_classes": [],
            "_model_module": "@jupyter-widgets/controls",
            "_model_module_version": "1.5.0",
            "_model_name": "HTMLModel",
            "_view_count": null,
            "_view_module": "@jupyter-widgets/controls",
            "_view_module_version": "1.5.0",
            "_view_name": "HTMLView",
            "description": "",
            "description_tooltip": null,
            "layout": "IPY_MODEL_e93e01dbde2741e6af7b4d000b28caf0",
            "placeholder": "​",
            "style": "IPY_MODEL_81cffdf65ccf4dc5be83f61ed5daa60e",
            "value": "Loading checkpoint shards: 100%"
          }
        },
        "717af1d4c6e54ad5b8871537ed376b1d": {
          "model_module": "@jupyter-widgets/controls",
          "model_name": "FloatProgressModel",
          "model_module_version": "1.5.0",
          "state": {
            "_dom_classes": [],
            "_model_module": "@jupyter-widgets/controls",
            "_model_module_version": "1.5.0",
            "_model_name": "FloatProgressModel",
            "_view_count": null,
            "_view_module": "@jupyter-widgets/controls",
            "_view_module_version": "1.5.0",
            "_view_name": "ProgressView",
            "bar_style": "success",
            "description": "",
            "description_tooltip": null,
            "layout": "IPY_MODEL_6613afc28d814cf1a1725a582a9c7ee4",
            "max": 2,
            "min": 0,
            "orientation": "horizontal",
            "style": "IPY_MODEL_af60f74b8c804a95835adb4a25d996dc",
            "value": 2
          }
        },
        "af3d9fa47eb94de385ce453ba4ba4cbc": {
          "model_module": "@jupyter-widgets/controls",
          "model_name": "HTMLModel",
          "model_module_version": "1.5.0",
          "state": {
            "_dom_classes": [],
            "_model_module": "@jupyter-widgets/controls",
            "_model_module_version": "1.5.0",
            "_model_name": "HTMLModel",
            "_view_count": null,
            "_view_module": "@jupyter-widgets/controls",
            "_view_module_version": "1.5.0",
            "_view_name": "HTMLView",
            "description": "",
            "description_tooltip": null,
            "layout": "IPY_MODEL_e0c0c1c2c2a74068ac1facfef3ba7d9a",
            "placeholder": "​",
            "style": "IPY_MODEL_1365e93f3d4349438ba016da03344bb5",
            "value": " 2/2 [00:25&lt;00:00, 10.70s/it]"
          }
        },
        "9e5f59b1bbb747c2927294c00d6c3d49": {
          "model_module": "@jupyter-widgets/base",
          "model_name": "LayoutModel",
          "model_module_version": "1.2.0",
          "state": {
            "_model_module": "@jupyter-widgets/base",
            "_model_module_version": "1.2.0",
            "_model_name": "LayoutModel",
            "_view_count": null,
            "_view_module": "@jupyter-widgets/base",
            "_view_module_version": "1.2.0",
            "_view_name": "LayoutView",
            "align_content": null,
            "align_items": null,
            "align_self": null,
            "border": null,
            "bottom": null,
            "display": null,
            "flex": null,
            "flex_flow": null,
            "grid_area": null,
            "grid_auto_columns": null,
            "grid_auto_flow": null,
            "grid_auto_rows": null,
            "grid_column": null,
            "grid_gap": null,
            "grid_row": null,
            "grid_template_areas": null,
            "grid_template_columns": null,
            "grid_template_rows": null,
            "height": null,
            "justify_content": null,
            "justify_items": null,
            "left": null,
            "margin": null,
            "max_height": null,
            "max_width": null,
            "min_height": null,
            "min_width": null,
            "object_fit": null,
            "object_position": null,
            "order": null,
            "overflow": null,
            "overflow_x": null,
            "overflow_y": null,
            "padding": null,
            "right": null,
            "top": null,
            "visibility": null,
            "width": null
          }
        },
        "e93e01dbde2741e6af7b4d000b28caf0": {
          "model_module": "@jupyter-widgets/base",
          "model_name": "LayoutModel",
          "model_module_version": "1.2.0",
          "state": {
            "_model_module": "@jupyter-widgets/base",
            "_model_module_version": "1.2.0",
            "_model_name": "LayoutModel",
            "_view_count": null,
            "_view_module": "@jupyter-widgets/base",
            "_view_module_version": "1.2.0",
            "_view_name": "LayoutView",
            "align_content": null,
            "align_items": null,
            "align_self": null,
            "border": null,
            "bottom": null,
            "display": null,
            "flex": null,
            "flex_flow": null,
            "grid_area": null,
            "grid_auto_columns": null,
            "grid_auto_flow": null,
            "grid_auto_rows": null,
            "grid_column": null,
            "grid_gap": null,
            "grid_row": null,
            "grid_template_areas": null,
            "grid_template_columns": null,
            "grid_template_rows": null,
            "height": null,
            "justify_content": null,
            "justify_items": null,
            "left": null,
            "margin": null,
            "max_height": null,
            "max_width": null,
            "min_height": null,
            "min_width": null,
            "object_fit": null,
            "object_position": null,
            "order": null,
            "overflow": null,
            "overflow_x": null,
            "overflow_y": null,
            "padding": null,
            "right": null,
            "top": null,
            "visibility": null,
            "width": null
          }
        },
        "81cffdf65ccf4dc5be83f61ed5daa60e": {
          "model_module": "@jupyter-widgets/controls",
          "model_name": "DescriptionStyleModel",
          "model_module_version": "1.5.0",
          "state": {
            "_model_module": "@jupyter-widgets/controls",
            "_model_module_version": "1.5.0",
            "_model_name": "DescriptionStyleModel",
            "_view_count": null,
            "_view_module": "@jupyter-widgets/base",
            "_view_module_version": "1.2.0",
            "_view_name": "StyleView",
            "description_width": ""
          }
        },
        "6613afc28d814cf1a1725a582a9c7ee4": {
          "model_module": "@jupyter-widgets/base",
          "model_name": "LayoutModel",
          "model_module_version": "1.2.0",
          "state": {
            "_model_module": "@jupyter-widgets/base",
            "_model_module_version": "1.2.0",
            "_model_name": "LayoutModel",
            "_view_count": null,
            "_view_module": "@jupyter-widgets/base",
            "_view_module_version": "1.2.0",
            "_view_name": "LayoutView",
            "align_content": null,
            "align_items": null,
            "align_self": null,
            "border": null,
            "bottom": null,
            "display": null,
            "flex": null,
            "flex_flow": null,
            "grid_area": null,
            "grid_auto_columns": null,
            "grid_auto_flow": null,
            "grid_auto_rows": null,
            "grid_column": null,
            "grid_gap": null,
            "grid_row": null,
            "grid_template_areas": null,
            "grid_template_columns": null,
            "grid_template_rows": null,
            "height": null,
            "justify_content": null,
            "justify_items": null,
            "left": null,
            "margin": null,
            "max_height": null,
            "max_width": null,
            "min_height": null,
            "min_width": null,
            "object_fit": null,
            "object_position": null,
            "order": null,
            "overflow": null,
            "overflow_x": null,
            "overflow_y": null,
            "padding": null,
            "right": null,
            "top": null,
            "visibility": null,
            "width": null
          }
        },
        "af60f74b8c804a95835adb4a25d996dc": {
          "model_module": "@jupyter-widgets/controls",
          "model_name": "ProgressStyleModel",
          "model_module_version": "1.5.0",
          "state": {
            "_model_module": "@jupyter-widgets/controls",
            "_model_module_version": "1.5.0",
            "_model_name": "ProgressStyleModel",
            "_view_count": null,
            "_view_module": "@jupyter-widgets/base",
            "_view_module_version": "1.2.0",
            "_view_name": "StyleView",
            "bar_color": null,
            "description_width": ""
          }
        },
        "e0c0c1c2c2a74068ac1facfef3ba7d9a": {
          "model_module": "@jupyter-widgets/base",
          "model_name": "LayoutModel",
          "model_module_version": "1.2.0",
          "state": {
            "_model_module": "@jupyter-widgets/base",
            "_model_module_version": "1.2.0",
            "_model_name": "LayoutModel",
            "_view_count": null,
            "_view_module": "@jupyter-widgets/base",
            "_view_module_version": "1.2.0",
            "_view_name": "LayoutView",
            "align_content": null,
            "align_items": null,
            "align_self": null,
            "border": null,
            "bottom": null,
            "display": null,
            "flex": null,
            "flex_flow": null,
            "grid_area": null,
            "grid_auto_columns": null,
            "grid_auto_flow": null,
            "grid_auto_rows": null,
            "grid_column": null,
            "grid_gap": null,
            "grid_row": null,
            "grid_template_areas": null,
            "grid_template_columns": null,
            "grid_template_rows": null,
            "height": null,
            "justify_content": null,
            "justify_items": null,
            "left": null,
            "margin": null,
            "max_height": null,
            "max_width": null,
            "min_height": null,
            "min_width": null,
            "object_fit": null,
            "object_position": null,
            "order": null,
            "overflow": null,
            "overflow_x": null,
            "overflow_y": null,
            "padding": null,
            "right": null,
            "top": null,
            "visibility": null,
            "width": null
          }
        },
        "1365e93f3d4349438ba016da03344bb5": {
          "model_module": "@jupyter-widgets/controls",
          "model_name": "DescriptionStyleModel",
          "model_module_version": "1.5.0",
          "state": {
            "_model_module": "@jupyter-widgets/controls",
            "_model_module_version": "1.5.0",
            "_model_name": "DescriptionStyleModel",
            "_view_count": null,
            "_view_module": "@jupyter-widgets/base",
            "_view_module_version": "1.2.0",
            "_view_name": "StyleView",
            "description_width": ""
          }
        }
      }
    }
  },
  "nbformat": 4,
  "nbformat_minor": 0
}